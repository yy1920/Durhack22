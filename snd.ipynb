{
 "cells": [
  {
   "cell_type": "code",
   "execution_count": 76,
   "metadata": {
    "collapsed": true
   },
   "outputs": [],
   "source": [
    "from itertools import combinations\n",
    "\n",
    "from keras import layers\n",
    "from tensorflow import keras\n",
    "from xgboost import XGBClassifier\n",
    "import numpy as np\n",
    "import tensorflow as tf\n",
    "import pandas as pd\n",
    "from sklearn import preprocessing"
   ]
  },
  {
   "cell_type": "code",
   "execution_count": 82,
   "outputs": [],
   "source": [
    "x_test = pd.read_csv('x_test.csv')\n",
    "x_train = pd.read_csv('x_train.csv')\n",
    "y_train = pd.read_csv('y_train.csv')"
   ],
   "metadata": {
    "collapsed": false,
    "pycharm": {
     "name": "#%%\n"
    }
   }
  },
  {
   "cell_type": "code",
   "execution_count": 87,
   "outputs": [
    {
     "data": {
      "text/plain": "[0, 0, 1, 0, 1, 1, 0, 0, 1, 1, 1, 1, 1, 0, 0, 1, 1, 1, 0, 0]"
     },
     "execution_count": 87,
     "metadata": {},
     "output_type": "execute_result"
    }
   ],
   "source": [
    "x_tn = x_train.values\n",
    "\n",
    "asign = lambda t: 0 if t<0 else 1\n",
    "list(map(asign, x_tn[0,7:46:2]))"
   ],
   "metadata": {
    "collapsed": false,
    "pycharm": {
     "name": "#%%\n"
    }
   }
  },
  {
   "cell_type": "code",
   "execution_count": 89,
   "outputs": [],
   "source": [
    "interval = 0  # Used for iteration\n",
    "OBV_Value = []  # Sets the initial OBV_Value to zero\n",
    "count = 0\n",
    "x_tn = x_train.values\n",
    "for i in range(x_train.shape[0]):\n",
    "    OBV_Value.append(np.sum(x_tn[i,8:47:2]*list(map(asign, x_tn[0,7:46:2]))))#/x_train[i,45]\n",
    "OBV_Value = pd.DataFrame(np.array(OBV_Value).reshape(len(OBV_Value),-1),columns=[\"OBV_Value\"])\n",
    "x_train = pd.concat([x_train,OBV_Value],axis=1)"
   ],
   "metadata": {
    "collapsed": false,
    "pycharm": {
     "name": "#%%\n"
    }
   }
  },
  {
   "cell_type": "code",
   "execution_count": 72,
   "outputs": [],
   "source": [
    "def moving_average(x_train,window):\n",
    "    row = x_train.iloc[:,7:46:2].rolling(window).mean()\n",
    "    print(row.size)\n",
    "    for i in range(1,21-window):\n",
    "        x_train[f'MA{window}_{i}'] = row.iloc[:, 21-window-i]\n",
    "# removing all the NULL values using\n",
    "# dropna() method\n",
    "    x_train.dropna(inplace=True)\n",
    "    print(x_train)"
   ],
   "metadata": {
    "collapsed": false,
    "pycharm": {
     "name": "#%%\n"
    }
   }
  },
  {
   "cell_type": "code",
   "execution_count": null,
   "outputs": [],
   "source": [],
   "metadata": {
    "collapsed": false,
    "pycharm": {
     "name": "#%%\n"
    }
   }
  },
  {
   "cell_type": "code",
   "execution_count": 73,
   "outputs": [
    {
     "name": "stdout",
     "output_type": "stream",
     "text": [
      "8371900\n",
      "            ID  DATE  STOCK  INDUSTRY  INDUSTRY_GROUP  SECTOR  SUB_INDUSTRY  \\\n",
      "4            4     0     14        36              12       5            92   \n",
      "5            5     0     23        37              12       5            94   \n",
      "6            6     0     45        52              18       7           121   \n",
      "7            7     0     59        57              20       8           143   \n",
      "9            9     0     65        56              20       8           139   \n",
      "...        ...   ...    ...       ...             ...     ...           ...   \n",
      "418590  418590   223   5703        32              10       4            77   \n",
      "418591  418591   223   5705        35              12       5            91   \n",
      "418592  418592   223   5709         2               1       1             5   \n",
      "418593  418593   223   5710        33              10       4            83   \n",
      "418594  418594   223   5713        26               7       4            60   \n",
      "\n",
      "           RET_1  VOLUME_1     RET_2  ...     MA5_6     MA5_7     MA5_8  \\\n",
      "4       0.027273 -0.847155 -0.039302  ... -0.001697  0.056762  0.058412   \n",
      "5       0.010938 -0.238878  0.021548  ... -0.005213  0.025871  0.031013   \n",
      "6       0.010602 -0.139011 -0.015338  ... -0.004817  0.020096  0.001534   \n",
      "7       0.001608  0.351362 -0.040863  ...  0.002101  0.010155  0.004621   \n",
      "9       0.007789 -0.226848 -0.020969  ... -0.002694  0.010723  0.000719   \n",
      "...          ...       ...       ...  ...       ...       ...       ...   \n",
      "418590  0.021843 -0.217823 -0.021703  ... -0.004533 -0.007995  0.050336   \n",
      "418591 -0.006920 -0.375251  0.000000  ... -0.005891  0.001219  0.033312   \n",
      "418592  0.021869 -0.978856 -0.005929  ...  0.004889 -0.000440  0.027086   \n",
      "418593  0.012248 -0.627169  0.010925  ...  0.006845  0.000794  0.010533   \n",
      "418594  0.076162 -1.325986 -0.000988  ...  0.008234 -0.004413  0.002357   \n",
      "\n",
      "           MA5_9    MA5_10    MA5_11    MA5_12    MA5_13    MA5_14    MA5_15  \n",
      "4      -0.003832 -0.027506  0.010228  0.002728 -0.007007  0.003225 -0.039305  \n",
      "5      -0.008648 -0.024585  0.004818 -0.002160 -0.009497 -0.002189 -0.031895  \n",
      "6      -0.016052 -0.023406  0.007669  0.005955 -0.005350 -0.008934 -0.016846  \n",
      "7      -0.015006 -0.020744  0.000955  0.002562 -0.010305 -0.008215 -0.013240  \n",
      "9      -0.009000 -0.011136  0.002955  0.002756 -0.005036 -0.000898 -0.014828  \n",
      "...          ...       ...       ...       ...       ...       ...       ...  \n",
      "418590 -0.010372 -0.017007  0.009757  0.004904  0.022137  0.010869 -0.030350  \n",
      "418591 -0.005717 -0.008560  0.007159  0.001999  0.017503  0.004719 -0.025401  \n",
      "418592  0.002321 -0.009966  0.007723 -0.000145  0.011444  0.007145 -0.025214  \n",
      "418593  0.003240 -0.010481  0.013862 -0.001224  0.014825  0.011967 -0.006328  \n",
      "418594  0.001652 -0.010851  0.013136  0.002332  0.015889  0.019372 -0.003539  \n",
      "\n",
      "[308648 rows x 62 columns]\n"
     ]
    }
   ],
   "source": [
    "moving_average(x_train.copy(),5)"
   ],
   "metadata": {
    "collapsed": false,
    "pycharm": {
     "name": "#%%\n"
    }
   }
  },
  {
   "cell_type": "code",
   "execution_count": 67,
   "outputs": [
    {
     "data": {
      "text/plain": "            ID  DATE  STOCK  INDUSTRY  INDUSTRY_GROUP  SECTOR  SUB_INDUSTRY  \\\n0            0     0      2        18               5       3            44   \n1            1     0      3        43              15       6           104   \n2            2     0      4        57              20       8           142   \n3            3     0      8         1               1       1             2   \n4            4     0     14        36              12       5            92   \n...        ...   ...    ...       ...             ...     ...           ...   \n418590  418590   223   5703        32              10       4            77   \n418591  418591   223   5705        35              12       5            91   \n418592  418592   223   5709         2               1       1             5   \n418593  418593   223   5710        33              10       4            83   \n418594  418594   223   5713        26               7       4            60   \n\n           RET_1  VOLUME_1     RET_2  ...    RET_16  VOLUME_16    RET_17  \\\n0      -0.015748  0.147931 -0.015504  ...  0.059459   0.630899  0.003254   \n1       0.003984       NaN -0.090580  ...  0.015413        NaN  0.003774   \n2       0.000440 -0.096282 -0.058896  ...  0.008964  -0.010336 -0.017612   \n3       0.031298 -0.429540  0.007756  ... -0.031769   0.012105  0.033824   \n4       0.027273 -0.847155 -0.039302  ... -0.038461  -0.277083 -0.012659   \n...          ...       ...       ...  ...       ...        ...       ...   \n418590  0.021843 -0.217823 -0.021703  ...  0.003160  -0.161543  0.007785   \n418591 -0.006920 -0.375251  0.000000  ...  0.007169  -0.955492 -0.016221   \n418592  0.021869 -0.978856 -0.005929  ...  0.001110  -0.476550  0.029714   \n418593  0.012248 -0.627169  0.010925  ...  0.007450  -0.210079  0.023729   \n418594  0.076162 -1.325986 -0.000988  ...  0.035503   0.277896 -0.037037   \n\n        VOLUME_17    RET_18  VOLUME_18    RET_19  VOLUME_19    RET_20  \\\n0       -0.379412  0.008752  -0.110597 -0.012959   0.174521 -0.002155   \n1             NaN -0.018518        NaN -0.028777        NaN -0.034722   \n2       -0.354333 -0.006562  -0.519391 -0.012101  -0.356157 -0.006867   \n3       -0.290178 -0.001468  -0.663834 -0.013520  -0.562126 -0.036745   \n4        0.139086  0.004237  -0.017547  0.004256   0.579510 -0.040817   \n...           ...       ...        ...       ...        ...       ...   \n418590  -0.141487  0.008205  -0.268215 -0.058448   0.057577  0.031174   \n418591  -0.171172  0.007819   1.540184 -0.015396  -0.502337 -0.011073   \n418592  -0.385972 -0.069148   1.780169 -0.082927   1.581453  0.098607   \n418593   0.813948  0.026087  -0.868576 -0.051155   0.371052  0.041238   \n418594   0.056942 -0.001896  -0.521932 -0.008366  -0.377668  0.003679   \n\n        VOLUME_20  \n0       -0.000937  \n1             NaN  \n2       -0.308868  \n3       -0.631458  \n4        0.802806  \n...           ...  \n418590  -0.163350  \n418591   0.632885  \n418592   6.956960  \n418593   0.045695  \n418594  -1.393662  \n\n[418595 rows x 47 columns]",
      "text/html": "<div>\n<style scoped>\n    .dataframe tbody tr th:only-of-type {\n        vertical-align: middle;\n    }\n\n    .dataframe tbody tr th {\n        vertical-align: top;\n    }\n\n    .dataframe thead th {\n        text-align: right;\n    }\n</style>\n<table border=\"1\" class=\"dataframe\">\n  <thead>\n    <tr style=\"text-align: right;\">\n      <th></th>\n      <th>ID</th>\n      <th>DATE</th>\n      <th>STOCK</th>\n      <th>INDUSTRY</th>\n      <th>INDUSTRY_GROUP</th>\n      <th>SECTOR</th>\n      <th>SUB_INDUSTRY</th>\n      <th>RET_1</th>\n      <th>VOLUME_1</th>\n      <th>RET_2</th>\n      <th>...</th>\n      <th>RET_16</th>\n      <th>VOLUME_16</th>\n      <th>RET_17</th>\n      <th>VOLUME_17</th>\n      <th>RET_18</th>\n      <th>VOLUME_18</th>\n      <th>RET_19</th>\n      <th>VOLUME_19</th>\n      <th>RET_20</th>\n      <th>VOLUME_20</th>\n    </tr>\n  </thead>\n  <tbody>\n    <tr>\n      <th>0</th>\n      <td>0</td>\n      <td>0</td>\n      <td>2</td>\n      <td>18</td>\n      <td>5</td>\n      <td>3</td>\n      <td>44</td>\n      <td>-0.015748</td>\n      <td>0.147931</td>\n      <td>-0.015504</td>\n      <td>...</td>\n      <td>0.059459</td>\n      <td>0.630899</td>\n      <td>0.003254</td>\n      <td>-0.379412</td>\n      <td>0.008752</td>\n      <td>-0.110597</td>\n      <td>-0.012959</td>\n      <td>0.174521</td>\n      <td>-0.002155</td>\n      <td>-0.000937</td>\n    </tr>\n    <tr>\n      <th>1</th>\n      <td>1</td>\n      <td>0</td>\n      <td>3</td>\n      <td>43</td>\n      <td>15</td>\n      <td>6</td>\n      <td>104</td>\n      <td>0.003984</td>\n      <td>NaN</td>\n      <td>-0.090580</td>\n      <td>...</td>\n      <td>0.015413</td>\n      <td>NaN</td>\n      <td>0.003774</td>\n      <td>NaN</td>\n      <td>-0.018518</td>\n      <td>NaN</td>\n      <td>-0.028777</td>\n      <td>NaN</td>\n      <td>-0.034722</td>\n      <td>NaN</td>\n    </tr>\n    <tr>\n      <th>2</th>\n      <td>2</td>\n      <td>0</td>\n      <td>4</td>\n      <td>57</td>\n      <td>20</td>\n      <td>8</td>\n      <td>142</td>\n      <td>0.000440</td>\n      <td>-0.096282</td>\n      <td>-0.058896</td>\n      <td>...</td>\n      <td>0.008964</td>\n      <td>-0.010336</td>\n      <td>-0.017612</td>\n      <td>-0.354333</td>\n      <td>-0.006562</td>\n      <td>-0.519391</td>\n      <td>-0.012101</td>\n      <td>-0.356157</td>\n      <td>-0.006867</td>\n      <td>-0.308868</td>\n    </tr>\n    <tr>\n      <th>3</th>\n      <td>3</td>\n      <td>0</td>\n      <td>8</td>\n      <td>1</td>\n      <td>1</td>\n      <td>1</td>\n      <td>2</td>\n      <td>0.031298</td>\n      <td>-0.429540</td>\n      <td>0.007756</td>\n      <td>...</td>\n      <td>-0.031769</td>\n      <td>0.012105</td>\n      <td>0.033824</td>\n      <td>-0.290178</td>\n      <td>-0.001468</td>\n      <td>-0.663834</td>\n      <td>-0.013520</td>\n      <td>-0.562126</td>\n      <td>-0.036745</td>\n      <td>-0.631458</td>\n    </tr>\n    <tr>\n      <th>4</th>\n      <td>4</td>\n      <td>0</td>\n      <td>14</td>\n      <td>36</td>\n      <td>12</td>\n      <td>5</td>\n      <td>92</td>\n      <td>0.027273</td>\n      <td>-0.847155</td>\n      <td>-0.039302</td>\n      <td>...</td>\n      <td>-0.038461</td>\n      <td>-0.277083</td>\n      <td>-0.012659</td>\n      <td>0.139086</td>\n      <td>0.004237</td>\n      <td>-0.017547</td>\n      <td>0.004256</td>\n      <td>0.579510</td>\n      <td>-0.040817</td>\n      <td>0.802806</td>\n    </tr>\n    <tr>\n      <th>...</th>\n      <td>...</td>\n      <td>...</td>\n      <td>...</td>\n      <td>...</td>\n      <td>...</td>\n      <td>...</td>\n      <td>...</td>\n      <td>...</td>\n      <td>...</td>\n      <td>...</td>\n      <td>...</td>\n      <td>...</td>\n      <td>...</td>\n      <td>...</td>\n      <td>...</td>\n      <td>...</td>\n      <td>...</td>\n      <td>...</td>\n      <td>...</td>\n      <td>...</td>\n      <td>...</td>\n    </tr>\n    <tr>\n      <th>418590</th>\n      <td>418590</td>\n      <td>223</td>\n      <td>5703</td>\n      <td>32</td>\n      <td>10</td>\n      <td>4</td>\n      <td>77</td>\n      <td>0.021843</td>\n      <td>-0.217823</td>\n      <td>-0.021703</td>\n      <td>...</td>\n      <td>0.003160</td>\n      <td>-0.161543</td>\n      <td>0.007785</td>\n      <td>-0.141487</td>\n      <td>0.008205</td>\n      <td>-0.268215</td>\n      <td>-0.058448</td>\n      <td>0.057577</td>\n      <td>0.031174</td>\n      <td>-0.163350</td>\n    </tr>\n    <tr>\n      <th>418591</th>\n      <td>418591</td>\n      <td>223</td>\n      <td>5705</td>\n      <td>35</td>\n      <td>12</td>\n      <td>5</td>\n      <td>91</td>\n      <td>-0.006920</td>\n      <td>-0.375251</td>\n      <td>0.000000</td>\n      <td>...</td>\n      <td>0.007169</td>\n      <td>-0.955492</td>\n      <td>-0.016221</td>\n      <td>-0.171172</td>\n      <td>0.007819</td>\n      <td>1.540184</td>\n      <td>-0.015396</td>\n      <td>-0.502337</td>\n      <td>-0.011073</td>\n      <td>0.632885</td>\n    </tr>\n    <tr>\n      <th>418592</th>\n      <td>418592</td>\n      <td>223</td>\n      <td>5709</td>\n      <td>2</td>\n      <td>1</td>\n      <td>1</td>\n      <td>5</td>\n      <td>0.021869</td>\n      <td>-0.978856</td>\n      <td>-0.005929</td>\n      <td>...</td>\n      <td>0.001110</td>\n      <td>-0.476550</td>\n      <td>0.029714</td>\n      <td>-0.385972</td>\n      <td>-0.069148</td>\n      <td>1.780169</td>\n      <td>-0.082927</td>\n      <td>1.581453</td>\n      <td>0.098607</td>\n      <td>6.956960</td>\n    </tr>\n    <tr>\n      <th>418593</th>\n      <td>418593</td>\n      <td>223</td>\n      <td>5710</td>\n      <td>33</td>\n      <td>10</td>\n      <td>4</td>\n      <td>83</td>\n      <td>0.012248</td>\n      <td>-0.627169</td>\n      <td>0.010925</td>\n      <td>...</td>\n      <td>0.007450</td>\n      <td>-0.210079</td>\n      <td>0.023729</td>\n      <td>0.813948</td>\n      <td>0.026087</td>\n      <td>-0.868576</td>\n      <td>-0.051155</td>\n      <td>0.371052</td>\n      <td>0.041238</td>\n      <td>0.045695</td>\n    </tr>\n    <tr>\n      <th>418594</th>\n      <td>418594</td>\n      <td>223</td>\n      <td>5713</td>\n      <td>26</td>\n      <td>7</td>\n      <td>4</td>\n      <td>60</td>\n      <td>0.076162</td>\n      <td>-1.325986</td>\n      <td>-0.000988</td>\n      <td>...</td>\n      <td>0.035503</td>\n      <td>0.277896</td>\n      <td>-0.037037</td>\n      <td>0.056942</td>\n      <td>-0.001896</td>\n      <td>-0.521932</td>\n      <td>-0.008366</td>\n      <td>-0.377668</td>\n      <td>0.003679</td>\n      <td>-1.393662</td>\n    </tr>\n  </tbody>\n</table>\n<p>418595 rows × 47 columns</p>\n</div>"
     },
     "execution_count": 67,
     "metadata": {},
     "output_type": "execute_result"
    }
   ],
   "source": [
    "x_train"
   ],
   "metadata": {
    "collapsed": false,
    "pycharm": {
     "name": "#%%\n"
    }
   }
  },
  {
   "cell_type": "code",
   "execution_count": 24,
   "outputs": [],
   "source": [
    "def scaler(data):\n",
    "    data = data.fillna(data.mean())\n",
    "    no_scale = data.iloc[:, :6]\n",
    "    to_scale = data.iloc[:, 6:]\n",
    "    temp = to_scale.columns\n",
    "\n",
    "    # Scalling\n",
    "    min_max_scaler = preprocessing.MinMaxScaler()\n",
    "    to_scale = min_max_scaler.fit_transform(to_scale)\n",
    "    to_scale = pd.DataFrame(to_scale)\n",
    "    to_scale.columns = temp\n",
    "    data = pd.concat([no_scale, to_scale], axis=1)\n",
    "\n",
    "    return data"
   ],
   "metadata": {
    "collapsed": false,
    "pycharm": {
     "name": "#%%\n"
    }
   }
  },
  {
   "cell_type": "code",
   "execution_count": 25,
   "outputs": [],
   "source": [
    "x_train = scaler(x_train)\n",
    "x_test = scaler(x_test)"
   ],
   "metadata": {
    "collapsed": false,
    "pycharm": {
     "name": "#%%\n"
    }
   }
  },
  {
   "cell_type": "code",
   "execution_count": 12,
   "outputs": [],
   "source": [
    "def clean_data(X):\n",
    "    i_v = []\n",
    "    i_r = []\n",
    "    for i in range(20):\n",
    "        i_v.append(r'VOLUME_{}'.format(i + 1))\n",
    "        i_r.append(r'RET_{}'.format(i + 1))\n",
    "\n",
    "    x = {}\n",
    "    x[0] = X[i_v].T\n",
    "    x[1] = X[i_r].T\n",
    "    x[2] = X[['ID', 'DATE', 'STOCK', 'INDUSTRY', 'INDUSTRY_GROUP', 'SECTOR', 'SUB_INDUSTRY']].T\n",
    "\n",
    "    for i in range(2):\n",
    "        x[i] = (x[i].fillna(method=\"ffill\") + x[i].fillna(method=\"bfill\")) / 2\n",
    "        x[i].iloc[:, -1].fillna(method=\"ffill\", inplace=True)\n",
    "        x[i].iloc[:, 0].fillna(method=\"bfill\", inplace=True)\n",
    "        x[i].fillna(0, inplace=True)\n",
    "    x[2] = x[2].fillna(0)\n",
    "    x_result = pd.concat([x[2], x[0], x[1]])\n",
    "    return x_result.T\n",
    "\n",
    "\n",
    "def weekly_means(data):\n",
    "    meanx_train = data.copy()\n",
    "    ret_cols = []\n",
    "    for ret in meanx_train.columns:\n",
    "        if \"RET\" in ret:\n",
    "            ret_cols.append(ret)\n",
    "\n",
    "    vol_cols = []\n",
    "    for vol in meanx_train.columns:\n",
    "        if \"VOLUME\" in vol:\n",
    "            vol_cols.append(vol)\n",
    "\n",
    "    list_1 = [0, 5, 10, 15]\n",
    "    list_2 = [5, 10, 15, 20]\n",
    "\n",
    "    for i in range(4):\n",
    "        temp1 = ret_cols[list_1[i]:list_2[i]]\n",
    "        temp2 = vol_cols[list_1[i]:list_2[i]]\n",
    "\n",
    "        meanx_train['average R Week ' + str(i)] = meanx_train[temp1].mean(axis=1)\n",
    "        meanx_train['average V Week ' + str(i)] = meanx_train[temp2].mean(axis=1)\n",
    "\n",
    "    return pd.concat([meanx_train.iloc[:, :7], meanx_train.iloc[:, 47:]], axis=1)\n",
    "\n",
    "\n",
    "def data_permute(x_train):\n",
    "    x_train = clean_data(x_train)\n",
    "    feature_to_gbs = ['INDUSTRY', 'SECTOR', 'STOCK', 'DATE']\n",
    "    feature_gbs = []\n",
    "    for i in range(1, len(feature_to_gbs) + 1):\n",
    "        feature_gbs += list(combinations(x_train[feature_to_gbs], i))\n",
    "    meanx_train = weekly_means(x_train)\n",
    "    target_feature = 'average R Week'\n",
    "    for index in range(4):\n",
    "        for i in range(len(feature_gbs)):\n",
    "            feat = f'{target_feature} {index}'\n",
    "            tmp_name = '_'.join(feature_gbs[i])\n",
    "            meanx_train[f'{target_feature}_{index}_{tmp_name}_mean'] = meanx_train.groupby(list(feature_gbs[i]))[\n",
    "                feat].transform('mean')\n",
    "    return meanx_train"
   ],
   "metadata": {
    "collapsed": false,
    "pycharm": {
     "name": "#%%\n"
    }
   }
  },
  {
   "cell_type": "code",
   "execution_count": 13,
   "outputs": [],
   "source": [
    "weekly_means_train = data_permute(x_train)\n",
    "weekly_means_test = data_permute(x_test)"
   ],
   "metadata": {
    "collapsed": false,
    "pycharm": {
     "name": "#%%\n"
    }
   }
  },
  {
   "cell_type": "code",
   "execution_count": 94,
   "outputs": [
    {
     "name": "stdout",
     "output_type": "stream",
     "text": [
      "Model: \"sequential_5\"\n",
      "_________________________________________________________________\n",
      " Layer (type)                Output Shape              Param #   \n",
      "=================================================================\n",
      " dense_15 (Dense)            (None, 128)               9472      \n",
      "                                                                 \n",
      " dense_16 (Dense)            (None, 128)               16512     \n",
      "                                                                 \n",
      " dense_17 (Dense)            (None, 1)                 129       \n",
      "                                                                 \n",
      "=================================================================\n",
      "Total params: 26,113\n",
      "Trainable params: 26,113\n",
      "Non-trainable params: 0\n",
      "_________________________________________________________________\n"
     ]
    }
   ],
   "source": [
    "def build_and_compile_model():\n",
    "  model = keras.Sequential([\n",
    "      layers.Dense(128, input_shape=(73,), activation='relu'),\n",
    "      layers.Dense(128, activation='relu'),\n",
    "      layers.Dense(1)\n",
    "  ])\n",
    "\n",
    "  model.compile(loss='binary_crossentropy',\n",
    "                metrics=['accuracy'],\n",
    "                optimizer=tf.keras.optimizers.Nadam(0.001))\n",
    "  return model\n",
    "\n",
    "dnn_model = build_and_compile_model()\n",
    "dnn_model.summary()"
   ],
   "metadata": {
    "collapsed": false,
    "pycharm": {
     "name": "#%%\n"
    }
   }
  },
  {
   "cell_type": "code",
   "execution_count": 95,
   "outputs": [
    {
     "name": "stdout",
     "output_type": "stream",
     "text": [
      "Epoch 1/10\n",
      "1309/1309 [==============================] - 5s 3ms/step - loss: 7.6958 - accuracy: 0.5011 - val_loss: 7.6962 - val_accuracy: 0.5011\n",
      "Epoch 2/10\n",
      "1309/1309 [==============================] - 3s 2ms/step - loss: 7.6958 - accuracy: 0.5011 - val_loss: 7.6962 - val_accuracy: 0.5011\n",
      "Epoch 3/10\n",
      "1309/1309 [==============================] - 3s 2ms/step - loss: 7.6958 - accuracy: 0.5011 - val_loss: 7.6962 - val_accuracy: 0.5011\n",
      "Epoch 4/10\n",
      "1309/1309 [==============================] - 3s 2ms/step - loss: 7.6958 - accuracy: 0.5011 - val_loss: 7.6962 - val_accuracy: 0.5011\n",
      "Epoch 5/10\n",
      "1309/1309 [==============================] - 3s 2ms/step - loss: 7.6958 - accuracy: 0.5011 - val_loss: 7.6962 - val_accuracy: 0.5011\n",
      "Epoch 6/10\n",
      "1309/1309 [==============================] - 3s 2ms/step - loss: 7.6958 - accuracy: 0.5011 - val_loss: 7.6962 - val_accuracy: 0.5011\n",
      "Epoch 7/10\n",
      "1309/1309 [==============================] - 3s 2ms/step - loss: 7.6958 - accuracy: 0.5011 - val_loss: 7.6962 - val_accuracy: 0.5011\n",
      "Epoch 8/10\n",
      "1309/1309 [==============================] - 3s 2ms/step - loss: 7.6958 - accuracy: 0.5011 - val_loss: 7.6962 - val_accuracy: 0.5011\n",
      "Epoch 9/10\n",
      "1309/1309 [==============================] - 3s 2ms/step - loss: 7.6958 - accuracy: 0.5011 - val_loss: 7.6962 - val_accuracy: 0.5011\n",
      "Epoch 10/10\n",
      "1309/1309 [==============================] - 3s 2ms/step - loss: 7.6958 - accuracy: 0.5011 - val_loss: 7.6962 - val_accuracy: 0.5011\n"
     ]
    }
   ],
   "source": [
    "history = dnn_model.fit(\n",
    "    weekly_means_train.iloc[:,2:], y_train['RET'],\n",
    "    epochs=10,\n",
    "    batch_size=256,\n",
    "    validation_split=0.2,\n",
    "    verbose=1)"
   ],
   "metadata": {
    "collapsed": false,
    "pycharm": {
     "name": "#%%\n"
    }
   }
  },
  {
   "cell_type": "code",
   "execution_count": 98,
   "outputs": [],
   "source": [
    "target = 'RET'\n",
    "y_pred = dnn_model.predict(weekly_means_test.iloc[:, 2:])\n",
    "\n",
    "sub = weekly_means_test.copy()\n",
    "sub['pred'] = y_pred\n",
    "y_pred = sub.groupby('DATE')['pred'].transform(\n",
    "    lambda x: x > x.median()).values\n",
    "\n",
    "submission = pd.Series(y_pred)\n",
    "submission.index = x_test['ID']\n",
    "submission.name = target\n",
    "\n",
    "submission.to_csv('dnn2.csv', index=True, header=True)"
   ],
   "metadata": {
    "collapsed": false,
    "pycharm": {
     "name": "#%%\n"
    }
   }
  },
  {
   "cell_type": "code",
   "execution_count": 109,
   "outputs": [],
   "source": [
    "y_rf = pd.read_csv('y_pred_rforestbest.csv')\n",
    "y_xg = pd.read_csv('xg_boost20.csv')\n",
    "y_nn = pd.read_csv('dnn2.csv')\n",
    "y_means = []\n",
    "for i in range(y_rf.shape[0]):\n",
    "    s = np.round((y_rf['RET'][i]+y_nn['RET'][i]+y_xg['RET'][i])/3,0)\n",
    "    y_means.append(s)\n",
    "y_means = pd.Series(y_means)\n",
    "y_means.index = x_test['ID']\n",
    "y_means.name = 'RET'\n",
    "y_means.to_csv('ensemble.csv', index=True, header=True)"
   ],
   "metadata": {
    "collapsed": false,
    "pycharm": {
     "name": "#%%\n"
    }
   }
  },
  {
   "cell_type": "code",
   "execution_count": 137,
   "outputs": [
    {
     "name": "stdout",
     "output_type": "stream",
     "text": [
      "Model: \"sequential_20\"\n",
      "_________________________________________________________________\n",
      " Layer (type)                Output Shape              Param #   \n",
      "=================================================================\n",
      " lstm_14 (LSTM)              (None, 128)               66560     \n",
      "                                                                 \n",
      " alpha_dropout (AlphaDropout  (None, 128)              0         \n",
      " )                                                               \n",
      "                                                                 \n",
      " dense_46 (Dense)            (None, 64)                8256      \n",
      "                                                                 \n",
      " dense_47 (Dense)            (None, 1)                 65        \n",
      "                                                                 \n",
      "=================================================================\n",
      "Total params: 74,881\n",
      "Trainable params: 74,881\n",
      "Non-trainable params: 0\n",
      "_________________________________________________________________\n"
     ]
    }
   ],
   "source": [
    "def build_and_compile_model3():\n",
    "  model = keras.Sequential([\n",
    "\n",
    "      layers.LSTM(128, input_shape=(73,1),activation='selu'),\n",
    "      layers.AlphaDropout(0.05),\n",
    "      layers.Dense(64, activation='selu'),\n",
    "      layers.Dense(1)\n",
    "  ])\n",
    "\n",
    "  model.compile(loss='binary_crossentropy',\n",
    "                metrics=['accuracy'],\n",
    "                optimizer=tf.keras.optimizers.Nadam(0.1))\n",
    "  return model\n",
    "\n",
    "lnn_model = build_and_compile_model3()\n",
    "lnn_model.summary()"
   ],
   "metadata": {
    "collapsed": false,
    "pycharm": {
     "name": "#%%\n"
    }
   }
  },
  {
   "cell_type": "code",
   "execution_count": 138,
   "outputs": [
    {
     "name": "stdout",
     "output_type": "stream",
     "text": [
      "Epoch 1/10\n",
      "328/328 [==============================] - 167s 501ms/step - loss: 7.6858 - accuracy: 0.4986 - val_loss: 7.6100 - val_accuracy: 0.5022\n",
      "Epoch 2/10\n",
      "328/328 [==============================] - 165s 503ms/step - loss: 7.6994 - accuracy: 0.4974 - val_loss: 7.6100 - val_accuracy: 0.5022\n",
      "Epoch 3/10\n",
      "328/328 [==============================] - 173s 526ms/step - loss: 7.6874 - accuracy: 0.4982 - val_loss: 7.6100 - val_accuracy: 0.5022\n",
      "Epoch 4/10\n",
      "328/328 [==============================] - 178s 542ms/step - loss: 7.7017 - accuracy: 0.4972 - val_loss: 7.6100 - val_accuracy: 0.5022\n",
      "Epoch 5/10\n",
      "328/328 [==============================] - 161s 490ms/step - loss: 7.6655 - accuracy: 0.4996 - val_loss: 7.6100 - val_accuracy: 0.5022\n",
      "Epoch 6/10\n",
      "328/328 [==============================] - 164s 500ms/step - loss: 7.6870 - accuracy: 0.4982 - val_loss: 7.6100 - val_accuracy: 0.5022\n",
      "Epoch 7/10\n",
      "328/328 [==============================] - 154s 469ms/step - loss: 7.6833 - accuracy: 0.4985 - val_loss: 7.6100 - val_accuracy: 0.5022\n",
      "Epoch 8/10\n",
      "328/328 [==============================] - 156s 476ms/step - loss: 7.6853 - accuracy: 0.4983 - val_loss: 7.6100 - val_accuracy: 0.5022\n",
      "Epoch 9/10\n",
      "328/328 [==============================] - 165s 501ms/step - loss: 7.6848 - accuracy: 0.4984 - val_loss: 7.6100 - val_accuracy: 0.5022\n",
      "Epoch 10/10\n",
      "328/328 [==============================] - 166s 507ms/step - loss: 7.6697 - accuracy: 0.4993 - val_loss: 7.6100 - val_accuracy: 0.5022\n"
     ]
    }
   ],
   "source": [
    "history = lnn_model.fit(\n",
    "    tf.expand_dims(weekly_means_train.iloc[:,2:],axis=-1), y_train['RET'],\n",
    "    epochs=10,\n",
    "    batch_size=1024,\n",
    "    validation_split=0.2,\n",
    "    verbose=1)"
   ],
   "metadata": {
    "collapsed": false,
    "pycharm": {
     "name": "#%%\n"
    }
   }
  },
  {
   "cell_type": "code",
   "execution_count": 146,
   "outputs": [],
   "source": [
    "y_lstm = np.sign(lnn_model.predict(tf.expand_dims(weekly_means_test.iloc[:,2:],axis=-1)))"
   ],
   "metadata": {
    "collapsed": false,
    "pycharm": {
     "name": "#%%\n"
    }
   }
  },
  {
   "cell_type": "code",
   "execution_count": 150,
   "outputs": [
    {
     "data": {
      "text/plain": "numpy.ndarray"
     },
     "execution_count": 150,
     "metadata": {},
     "output_type": "execute_result"
    }
   ],
   "source": [
    "type(y_lstm)"
   ],
   "metadata": {
    "collapsed": false,
    "pycharm": {
     "name": "#%%\n"
    }
   }
  },
  {
   "cell_type": "code",
   "execution_count": 151,
   "outputs": [],
   "source": [
    "submission = pd.Series(y_lstm[:,0])\n",
    "submission.index = x_test['ID']\n",
    "submission.name = target\n",
    "\n",
    "submission.to_csv('lstm.csv', index=True, header=True)"
   ],
   "metadata": {
    "collapsed": false,
    "pycharm": {
     "name": "#%%\n"
    }
   }
  }
 ],
 "metadata": {
  "kernelspec": {
   "display_name": "Python 3",
   "language": "python",
   "name": "python3"
  },
  "language_info": {
   "codemirror_mode": {
    "name": "ipython",
    "version": 2
   },
   "file_extension": ".py",
   "mimetype": "text/x-python",
   "name": "python",
   "nbconvert_exporter": "python",
   "pygments_lexer": "ipython2",
   "version": "2.7.6"
  }
 },
 "nbformat": 4,
 "nbformat_minor": 0
}